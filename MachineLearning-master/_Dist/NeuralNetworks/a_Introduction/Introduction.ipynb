{
 "cells": [
  {
   "cell_type": "code",
   "execution_count": 1,
   "metadata": {
    "collapsed": true
   },
   "outputs": [],
   "source": [
    "import os\n",
    "import sys\n",
    "root_path = os.path.abspath(\"../../../\")\n",
    "if root_path not in sys.path:\n",
    "    sys.path.append(root_path)\n",
    "\n",
    "import time\n",
    "import numpy as np\n",
    "\n",
    "from Util.Util import DataUtil\n",
    "from Util.ProgressBar import ProgressBar\n",
    "\n",
    "train_num = 6000\n",
    "(x_train, y_train), (x_test, y_test) = DataUtil.get_dataset(\n",
    "    \"mushroom\", \"../../../_Data/mushroom.txt\",\n",
    "    n_train=train_num, tar_idx=0\n",
    ")\n",
    "x_train, y_train, wc, features, feat_dicts, label_dict = DataUtil.quantize_data(x_train, y_train)\n",
    "x_test, y_test = DataUtil.transform_data(x_test, y_test, wc, feat_dicts, label_dict)"
   ]
  },
  {
   "cell_type": "code",
   "execution_count": 2,
   "metadata": {
    "collapsed": true
   },
   "outputs": [],
   "source": [
    "from sklearn.linear_model import LogisticRegression\n",
    "\n",
    "clf = LogisticRegression()\n",
    "clf.fit(x_train, y_train)\n",
    "y_pred = clf.predict(x_test)"
   ]
  },
  {
   "cell_type": "code",
   "execution_count": 3,
   "metadata": {},
   "outputs": [
    {
     "data": {
      "text/plain": [
       "array([[   2104.,  399900.],\n",
       "       [   1600.,  329900.],\n",
       "       [   2400.,  369000.]], dtype=float32)"
      ]
     },
     "execution_count": 3,
     "metadata": {},
     "output_type": "execute_result"
    }
   ],
   "source": [
    "with open(\"../../../_Data/prices.txt\", \"r\") as file:\n",
    "    data = np.array([line.strip().split(\",\") for line in file], dtype=np.float32)\n",
    "data[:3]"
   ]
  },
  {
   "cell_type": "code",
   "execution_count": 4,
   "metadata": {},
   "outputs": [
    {
     "name": "stdout",
     "output_type": "stream",
     "text": [
      "32 7 8 47\n"
     ]
    }
   ],
   "source": [
    "length = len(data)\n",
    "n_train, n_cv = int(0.7*length), int(0.15*length)\n",
    "idx = np.random.permutation(length)\n",
    "train_idx, cv_idx = idx[:n_train], idx[n_train:n_train+n_cv]\n",
    "test_idx = idx[n_train+n_cv:]\n",
    "train, cv, test = data[train_idx], data[cv_idx], data[test_idx]\n",
    "print(len(train), len(cv), len(test), length)"
   ]
  },
  {
   "cell_type": "code",
   "execution_count": 5,
   "metadata": {},
   "outputs": [
    {
     "name": "stdout",
     "output_type": "stream",
     "text": [
      "['m' 'i' 'f'] [12, 8, 5]\n"
     ]
    }
   ],
   "source": [
    "letters = np.array(list(\"qwertyuiopasdfghjklzxcvbnm\"))\n",
    "data = letters[np.random.randint(0, 26, 10000)]\n",
    "features = set(data)\n",
    "feat_dic = {c: i for i, c in enumerate(sorted(features))}\n",
    "\n",
    "def transform(data, feat_dic):\n",
    "    return [feat_dic[c] for c in data]\n",
    "\n",
    "print(data[:3], transform(data, feat_dic)[:3])"
   ]
  },
  {
   "cell_type": "code",
   "execution_count": 6,
   "metadata": {},
   "outputs": [
    {
     "name": "stdout",
     "output_type": "stream",
     "text": [
      "['a', 'c', 'b'] [0, 2, 1]\n"
     ]
    }
   ],
   "source": [
    "data = [\"a\", \"c\", \"b\"]\n",
    "print(data, transform(data, feat_dic))"
   ]
  },
  {
   "cell_type": "code",
   "execution_count": 7,
   "metadata": {
    "scrolled": true
   },
   "outputs": [
    {
     "name": "stdout",
     "output_type": "stream",
     "text": [
      "\n",
      "## #    Task1     # Progress bar initialized  ##\n",
      "## #    Task2     # Progress bar initialized  ##\n",
      "## #    Task3     # (3 : 0 -> 3) Task Finished. Time Cost:   0 h   0 min  1.503 s; Average:   0 h   0 min 0.5009 s  ## min 0.5008 s \n",
      "## #    Task2     # [----------                    ] : 1 / 3 ##  Time Cost:   0 h   0 min  2.003 s; Average:   0 h   0 min  2.003 s \n",
      "## #    Task3     # (3 : 0 -> 3) Task Finished. Time Cost:   0 h   0 min  1.501 s; Average:   0 h   0 min 0.5005 s  ## min 0.5003 s \n",
      "## #    Task2     # [--------------------          ] : 2 / 3 ##  Time Cost:   0 h   0 min  4.006 s; Average:   0 h   0 min  2.003 s \n",
      "## #    Task3     # (3 : 0 -> 3) Task Finished. Time Cost:   0 h   0 min  1.503 s; Average:   0 h   0 min  0.501 s  ## min 0.5008 s \n",
      "## #    Task2     # (3 : 0 -> 3) Task Finished. Time Cost:   0 h   0 min   6.01 s; Average:   0 h   0 min  2.003 s  ##\n",
      "## #    Task1     # [----------                    ] : 1 / 3 ##  Time Cost:   0 h   0 min  6.511 s; Average:   0 h   0 min  6.511 s \n",
      "## #    Task2     # Progress bar initialized  ##\n",
      "## #    Task3     # (3 : 0 -> 3) Task Finished. Time Cost:   0 h   0 min  1.501 s; Average:   0 h   0 min 0.5005 s  ## min 0.5005 s \n",
      "## #    Task2     # [----------                    ] : 1 / 3 ##  Time Cost:   0 h   0 min  2.002 s; Average:   0 h   0 min  2.002 s \n",
      "## #    Task3     # (3 : 0 -> 3) Task Finished. Time Cost:   0 h   0 min  1.501 s; Average:   0 h   0 min 0.5004 s  ## min 0.5006 s \n",
      "## #    Task2     # [--------------------          ] : 2 / 3 ##  Time Cost:   0 h   0 min  4.004 s; Average:   0 h   0 min  2.002 s \n",
      "## #    Task3     # (3 : 0 -> 3) Task Finished. Time Cost:   0 h   0 min  1.502 s; Average:   0 h   0 min 0.5006 s  ## min 0.5005 s \n",
      "## #    Task2     # (3 : 0 -> 3) Task Finished. Time Cost:   0 h   0 min  6.007 s; Average:   0 h   0 min  2.002 s  ##\n",
      "## #    Task1     # [--------------------          ] : 2 / 3 ##  Time Cost:   0 h   0 min  13.02 s; Average:   0 h   0 min  6.509 s \n",
      "## #    Task2     # Progress bar initialized  ##\n",
      "## #    Task3     # (3 : 0 -> 3) Task Finished. Time Cost:   0 h   0 min  1.501 s; Average:   0 h   0 min 0.5005 s  ## min 0.5005 s \n",
      "## #    Task2     # [----------                    ] : 1 / 3 ##  Time Cost:   0 h   0 min  2.002 s; Average:   0 h   0 min  2.002 s \n",
      "## #    Task3     # (3 : 0 -> 3) Task Finished. Time Cost:   0 h   0 min  1.502 s; Average:   0 h   0 min 0.5007 s  ## min 0.5005 s \n",
      "## #    Task2     # [--------------------          ] : 2 / 3 ##  Time Cost:   0 h   0 min  4.004 s; Average:   0 h   0 min  2.002 s \n",
      "## #    Task3     # (3 : 0 -> 3) Task Finished. Time Cost:   0 h   0 min  1.502 s; Average:   0 h   0 min 0.5007 s  ## min 0.5005 s \n",
      "## #    Task2     # (3 : 0 -> 3) Task Finished. Time Cost:   0 h   0 min  6.007 s; Average:   0 h   0 min  2.002 s  ##\n",
      "## #    Task1     # (3 : 0 -> 3) Task Finished. Time Cost:   0 h   0 min  19.53 s; Average:   0 h   0 min  6.508 s  ##\n"
     ]
    }
   ],
   "source": [
    "def task(cost=0.5, epoch=3, name=\"\", sub_task=None):\n",
    "    def sub():\n",
    "        bar = ProgressBar(max_value=epoch, name=name)\n",
    "        for _ in range(epoch):\n",
    "            time.sleep(cost)\n",
    "            if sub_task is not None:\n",
    "                sub_task()\n",
    "            bar.update()\n",
    "    return sub\n",
    "\n",
    "task(name=\"Task1\", sub_task=task(\n",
    "    name=\"Task2\", sub_task=task(\n",
    "        name=\"Task3\")))()"
   ]
  }
 ],
 "metadata": {
  "anaconda-cloud": {},
  "kernelspec": {
   "display_name": "Python 3",
   "language": "python",
   "name": "python3"
  },
  "language_info": {
   "codemirror_mode": {
    "name": "ipython",
    "version": 3
   },
   "file_extension": ".py",
   "mimetype": "text/x-python",
   "name": "python",
   "nbconvert_exporter": "python",
   "pygments_lexer": "ipython3",
   "version": "3.6.1"
  }
 },
 "nbformat": 4,
 "nbformat_minor": 1
}
